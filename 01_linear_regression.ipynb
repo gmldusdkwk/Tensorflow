{
 "cells": [
  {
   "cell_type": "code",
   "execution_count": 1,
   "metadata": {},
   "outputs": [
    {
     "name": "stderr",
     "output_type": "stream",
     "text": [
      "/anaconda3/lib/python3.6/importlib/_bootstrap.py:219: RuntimeWarning: numpy.dtype size changed, may indicate binary incompatibility. Expected 96, got 88\n",
      "  return f(*args, **kwds)\n",
      "/anaconda3/lib/python3.6/importlib/_bootstrap.py:219: RuntimeWarning: numpy.dtype size changed, may indicate binary incompatibility. Expected 96, got 88\n",
      "  return f(*args, **kwds)\n",
      "/anaconda3/lib/python3.6/importlib/_bootstrap.py:219: RuntimeWarning: numpy.dtype size changed, may indicate binary incompatibility. Expected 96, got 88\n",
      "  return f(*args, **kwds)\n"
     ]
    }
   ],
   "source": [
    "import tensorflow as tf\n",
    "import numpy as np"
   ]
  },
  {
   "cell_type": "code",
   "execution_count": 2,
   "metadata": {},
   "outputs": [],
   "source": [
    "trX = np.linspace(-1, 1, 101)\n",
    "trY = 2 * trX + np.random.randn(*trX.shape) * 0.33"
   ]
  },
  {
   "cell_type": "code",
   "execution_count": 7,
   "metadata": {},
   "outputs": [
    {
     "data": {
      "text/plain": [
       "(101,)"
      ]
     },
     "execution_count": 7,
     "metadata": {},
     "output_type": "execute_result"
    }
   ],
   "source": [
    "trX.shape"
   ]
  },
  {
   "cell_type": "code",
   "execution_count": 4,
   "metadata": {},
   "outputs": [
    {
     "data": {
      "text/plain": [
       "array([-1.  , -0.98, -0.96, -0.94, -0.92, -0.9 , -0.88, -0.86, -0.84,\n",
       "       -0.82, -0.8 , -0.78, -0.76, -0.74, -0.72, -0.7 , -0.68, -0.66,\n",
       "       -0.64, -0.62, -0.6 , -0.58, -0.56, -0.54, -0.52, -0.5 , -0.48,\n",
       "       -0.46, -0.44, -0.42, -0.4 , -0.38, -0.36, -0.34, -0.32, -0.3 ,\n",
       "       -0.28, -0.26, -0.24, -0.22, -0.2 , -0.18, -0.16, -0.14, -0.12,\n",
       "       -0.1 , -0.08, -0.06, -0.04, -0.02,  0.  ,  0.02,  0.04,  0.06,\n",
       "        0.08,  0.1 ,  0.12,  0.14,  0.16,  0.18,  0.2 ,  0.22,  0.24,\n",
       "        0.26,  0.28,  0.3 ,  0.32,  0.34,  0.36,  0.38,  0.4 ,  0.42,\n",
       "        0.44,  0.46,  0.48,  0.5 ,  0.52,  0.54,  0.56,  0.58,  0.6 ,\n",
       "        0.62,  0.64,  0.66,  0.68,  0.7 ,  0.72,  0.74,  0.76,  0.78,\n",
       "        0.8 ,  0.82,  0.84,  0.86,  0.88,  0.9 ,  0.92,  0.94,  0.96,\n",
       "        0.98,  1.  ])"
      ]
     },
     "execution_count": 4,
     "metadata": {},
     "output_type": "execute_result"
    }
   ],
   "source": [
    "trX"
   ]
  },
  {
   "cell_type": "markdown",
   "metadata": {},
   "source": [
    "Return a sample (or samples) from the \"standard normal\" distribution."
   ]
  },
  {
   "cell_type": "code",
   "execution_count": 6,
   "metadata": {},
   "outputs": [
    {
     "data": {
      "text/plain": [
       "array([ 0.78666489,  1.27183809, -1.31401533, -0.90090058, -0.39443776,\n",
       "       -1.97906459, -0.42225051, -1.11141259,  0.29188455, -0.33264542,\n",
       "       -0.88356207, -0.1709142 ,  2.33323628, -1.40655688, -0.21451025,\n",
       "       -0.68033237, -1.27680677, -0.09453797, -1.22769221,  0.63451359,\n",
       "       -0.92027973,  0.29065541, -1.40391703,  0.00661505, -0.91508656,\n",
       "       -2.17882974,  0.8566536 , -0.82716645,  0.56111492,  1.33048743,\n",
       "       -2.13736777,  1.39327297,  0.07569045, -0.2175482 ,  0.970467  ,\n",
       "       -1.42203978,  1.18474815, -1.2613262 ,  0.44507084, -0.43977574,\n",
       "        0.14299818,  0.01393642, -0.94252566, -0.41074087,  0.4124829 ,\n",
       "        0.38424982, -0.92594795, -0.65364021, -0.50461888,  0.02631241,\n",
       "        0.67849111,  0.80091652,  2.0261109 ,  3.25130631,  0.38036905,\n",
       "       -1.7112683 , -0.1505672 , -0.41138269, -0.30776507,  1.78552393,\n",
       "        0.32382823,  1.25076208,  0.61267777,  0.33196155,  0.52437312,\n",
       "        1.0645422 , -1.88835631,  0.28115709, -0.23899954, -0.59768955,\n",
       "       -1.0170542 ,  1.82360613, -1.29179857, -0.11995182, -0.6300738 ,\n",
       "       -0.79156974, -0.63589258,  0.59596802, -1.30248932, -0.35113234,\n",
       "       -0.82107867,  0.32856572,  0.15466861, -0.98405285,  1.35647144,\n",
       "        0.5845781 ,  0.54958379,  0.28610904,  0.29261078,  1.43188362,\n",
       "       -1.3217795 ,  1.06708111, -0.96882284, -1.05788867, -0.20274588,\n",
       "        0.79900421,  0.25795425, -2.01390034, -0.56879417, -1.34644774,\n",
       "       -0.28377542])"
      ]
     },
     "execution_count": 6,
     "metadata": {},
     "output_type": "execute_result"
    }
   ],
   "source": [
    "np.random.randn(*trX.shape)"
   ]
  },
  {
   "cell_type": "code",
   "execution_count": 5,
   "metadata": {},
   "outputs": [
    {
     "data": {
      "text/plain": [
       "array([-1.67854546, -1.96974287, -2.12592868, -1.90722091, -1.81516117,\n",
       "       -1.71797281, -1.84528801, -1.91779073, -1.34697159, -1.84546946,\n",
       "       -1.90782242, -0.98243025, -1.04098336, -1.20505783, -1.61808693,\n",
       "       -2.04398791, -1.29865154, -1.6848871 , -1.3824192 , -1.34353175,\n",
       "       -1.26067217, -1.23617116, -1.35160509, -1.15340697, -0.77664244,\n",
       "       -0.78861238, -0.30054501, -0.75382317, -0.61634216, -0.90825647,\n",
       "       -1.08028447, -0.59865773, -1.14194918, -0.73468735, -0.93791379,\n",
       "       -0.47942865, -0.82497599, -0.50749793, -0.35396635, -0.76565927,\n",
       "        0.02801471, -0.6263143 , -0.50726261, -0.30279115,  0.00295082,\n",
       "       -0.44503258, -0.44538952, -0.6998675 ,  0.03765781, -0.66598099,\n",
       "        0.06434976, -0.41231487, -0.11510051,  0.40642681,  0.59329049,\n",
       "        0.17735813, -0.53297358,  0.56999799,  0.32780374,  0.36777335,\n",
       "        0.03499989,  0.21160811,  0.35552589,  0.96611111,  0.27183456,\n",
       "        0.98802099,  0.53734036,  0.37768339,  0.99905292,  0.59683993,\n",
       "        0.75231075,  1.15938108,  1.29954016,  0.94824556,  1.10870202,\n",
       "        1.48306786,  0.8013753 ,  1.34648725,  1.24667675,  0.72312983,\n",
       "        0.64202353,  1.19349173,  1.67882035,  1.4766795 ,  1.8828799 ,\n",
       "        1.80242579,  1.43582526,  1.14916416,  1.71127265,  1.96913306,\n",
       "        1.41404251,  1.72604542,  1.39423979,  1.45020181,  1.5141635 ,\n",
       "        1.98704065,  1.53780004,  1.99322715,  1.50080731,  1.51606873,\n",
       "        2.31590068])"
      ]
     },
     "execution_count": 5,
     "metadata": {},
     "output_type": "execute_result"
    }
   ],
   "source": [
    "trY"
   ]
  },
  {
   "cell_type": "code",
   "execution_count": 8,
   "metadata": {},
   "outputs": [],
   "source": [
    "X = tf.placeholder(\"float\")\n",
    "Y = tf.placeholder(\"float\")\n",
    "\n",
    "def model(X, w):\n",
    "    return tf.multiply(X, w)\n",
    "\n",
    "w = tf.Variable(0.0, name=\"weights\")\n",
    "y_model = model(X, w)\n",
    "\n",
    "# Computes square of x element-wise.\n",
    "cost = tf.square(Y - y_model)\n",
    "\n",
    "train_op = tf.train.GradientDescentOptimizer(0.01).minimize(cost)\n",
    "# construct an optimizer to minimize cost and fit line to my data"
   ]
  },
  {
   "cell_type": "markdown",
   "metadata": {},
   "source": [
    "Lauch the graph in a session"
   ]
  },
  {
   "cell_type": "code",
   "execution_count": 9,
   "metadata": {},
   "outputs": [
    {
     "name": "stdout",
     "output_type": "stream",
     "text": [
      "1.9937971\n"
     ]
    }
   ],
   "source": [
    "with tf.Session() as sess:\n",
    "    # you need to initialize variables (in this case just variable W)\n",
    "    tf.global_variables_initializer().run()\n",
    "    \n",
    "    for i in range(100):\n",
    "        for (x, y) in zip(trX, trY):\n",
    "            sess.run(train_op, feed_dict = {X:x, Y:y})\n",
    "    \n",
    "    print(sess.run(w))"
   ]
  },
  {
   "cell_type": "markdown",
   "metadata": {},
   "source": [
    "It should be something around 2"
   ]
  },
  {
   "cell_type": "code",
   "execution_count": null,
   "metadata": {},
   "outputs": [],
   "source": []
  }
 ],
 "metadata": {
  "kernelspec": {
   "display_name": "Python 3",
   "language": "python",
   "name": "python3"
  },
  "language_info": {
   "codemirror_mode": {
    "name": "ipython",
    "version": 3
   },
   "file_extension": ".py",
   "mimetype": "text/x-python",
   "name": "python",
   "nbconvert_exporter": "python",
   "pygments_lexer": "ipython3",
   "version": "3.6.5"
  }
 },
 "nbformat": 4,
 "nbformat_minor": 2
}
