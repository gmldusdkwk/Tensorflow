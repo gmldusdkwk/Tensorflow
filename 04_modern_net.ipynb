{
 "cells": [
  {
   "cell_type": "code",
   "execution_count": 1,
   "metadata": {},
   "outputs": [],
   "source": [
    "import tensorflow as tf\n",
    "import numpy as np\n",
    "from tensorflow.examples.tutorials.mnist import input_data"
   ]
  },
  {
   "cell_type": "code",
   "execution_count": 2,
   "metadata": {},
   "outputs": [],
   "source": [
    "def init_weights(shape):\n",
    "    return tf.Variable(tf.random_normal(shape, stddev=0.01))"
   ]
  },
  {
   "cell_type": "code",
   "execution_count": 3,
   "metadata": {},
   "outputs": [],
   "source": [
    "def model(X, w_h, w_h2, w_o, p_keep_input, p_keep_hidden):\n",
    "    X = tf.nn.dropout(X, p_keep_input)\n",
    "    h = tf.nn.relu(tf.matmul(X, w_h))\n",
    "    \n",
    "    h = tf.nn.dropout(h, p_keep_hidden)\n",
    "    h2 = tf.nn.relu(tf.matmul(h, w_h2))\n",
    "    \n",
    "    h2 = tf.nn.dropout(h2, p_keep_hidden)\n",
    "    \n",
    "    return tf.matmul(h2, w_o)"
   ]
  },
  {
   "cell_type": "code",
   "execution_count": 4,
   "metadata": {},
   "outputs": [
    {
     "name": "stdout",
     "output_type": "stream",
     "text": [
      "WARNING:tensorflow:From <ipython-input-4-a0c1bc5755ed>:1: read_data_sets (from tensorflow.contrib.learn.python.learn.datasets.mnist) is deprecated and will be removed in a future version.\n",
      "Instructions for updating:\n",
      "Please use alternatives such as official/mnist/dataset.py from tensorflow/models.\n",
      "WARNING:tensorflow:From /anaconda3/lib/python3.6/site-packages/tensorflow/contrib/learn/python/learn/datasets/mnist.py:260: maybe_download (from tensorflow.contrib.learn.python.learn.datasets.base) is deprecated and will be removed in a future version.\n",
      "Instructions for updating:\n",
      "Please write your own downloading logic.\n",
      "WARNING:tensorflow:From /anaconda3/lib/python3.6/site-packages/tensorflow/contrib/learn/python/learn/datasets/mnist.py:262: extract_images (from tensorflow.contrib.learn.python.learn.datasets.mnist) is deprecated and will be removed in a future version.\n",
      "Instructions for updating:\n",
      "Please use tf.data to implement this functionality.\n",
      "Extracting MNIST_data/train-images-idx3-ubyte.gz\n",
      "WARNING:tensorflow:From /anaconda3/lib/python3.6/site-packages/tensorflow/contrib/learn/python/learn/datasets/mnist.py:267: extract_labels (from tensorflow.contrib.learn.python.learn.datasets.mnist) is deprecated and will be removed in a future version.\n",
      "Instructions for updating:\n",
      "Please use tf.data to implement this functionality.\n",
      "Extracting MNIST_data/train-labels-idx1-ubyte.gz\n",
      "WARNING:tensorflow:From /anaconda3/lib/python3.6/site-packages/tensorflow/contrib/learn/python/learn/datasets/mnist.py:110: dense_to_one_hot (from tensorflow.contrib.learn.python.learn.datasets.mnist) is deprecated and will be removed in a future version.\n",
      "Instructions for updating:\n",
      "Please use tf.one_hot on tensors.\n",
      "Extracting MNIST_data/t10k-images-idx3-ubyte.gz\n",
      "Extracting MNIST_data/t10k-labels-idx1-ubyte.gz\n",
      "WARNING:tensorflow:From /anaconda3/lib/python3.6/site-packages/tensorflow/contrib/learn/python/learn/datasets/mnist.py:290: DataSet.__init__ (from tensorflow.contrib.learn.python.learn.datasets.mnist) is deprecated and will be removed in a future version.\n",
      "Instructions for updating:\n",
      "Please use alternatives such as official/mnist/dataset.py from tensorflow/models.\n"
     ]
    }
   ],
   "source": [
    "mnist = input_data.read_data_sets(\"MNIST_data/\", one_hot=True)\n",
    "trX, trY, teX, teY = mnist.train.images, mnist.train.labels, mnist.test.images, mnist.test.labels"
   ]
  },
  {
   "cell_type": "code",
   "execution_count": 5,
   "metadata": {},
   "outputs": [],
   "source": [
    "X = tf.placeholder(\"float\", [None, 784])\n",
    "Y = tf.placeholder(\"float\", [None, 10])"
   ]
  },
  {
   "cell_type": "code",
   "execution_count": 6,
   "metadata": {},
   "outputs": [],
   "source": [
    "w_h = init_weights([784, 625])\n",
    "w_h2 = init_weights([625, 625])\n",
    "w_o = init_weights([625, 10])"
   ]
  },
  {
   "cell_type": "code",
   "execution_count": 7,
   "metadata": {},
   "outputs": [],
   "source": [
    "p_keep_input = tf.placeholder(\"float\")\n",
    "p_keep_hidden = tf.placeholder(\"float\")\n",
    "py_x = model(X, w_h, w_h2, w_o, p_keep_input, p_keep_hidden)"
   ]
  },
  {
   "cell_type": "code",
   "execution_count": 8,
   "metadata": {},
   "outputs": [
    {
     "name": "stdout",
     "output_type": "stream",
     "text": [
      "WARNING:tensorflow:From <ipython-input-8-191f457a68d7>:1: softmax_cross_entropy_with_logits (from tensorflow.python.ops.nn_ops) is deprecated and will be removed in a future version.\n",
      "Instructions for updating:\n",
      "\n",
      "Future major versions of TensorFlow will allow gradients to flow\n",
      "into the labels input on backprop by default.\n",
      "\n",
      "See @{tf.nn.softmax_cross_entropy_with_logits_v2}.\n",
      "\n"
     ]
    }
   ],
   "source": [
    "cost = tf.reduce_mean(tf.nn.softmax_cross_entropy_with_logits(logits=py_x, labels=Y))"
   ]
  },
  {
   "cell_type": "code",
   "execution_count": 9,
   "metadata": {},
   "outputs": [],
   "source": [
    "train_op = tf.train.RMSPropOptimizer(0.001, 0.9).minimize(cost)\n",
    "predict_op = tf.argmax(py_x, 1)"
   ]
  },
  {
   "cell_type": "code",
   "execution_count": 11,
   "metadata": {},
   "outputs": [
    {
     "name": "stdout",
     "output_type": "stream",
     "text": [
      "0 0.943\n",
      "1 0.9644\n",
      "2 0.9702\n",
      "3 0.9736\n",
      "4 0.977\n",
      "5 0.9765\n",
      "6 0.9796\n",
      "7 0.9799\n",
      "8 0.976\n",
      "9 0.9794\n",
      "10 0.9795\n",
      "11 0.9793\n",
      "12 0.9816\n",
      "13 0.9806\n",
      "14 0.9808\n",
      "15 0.9816\n",
      "16 0.9822\n",
      "17 0.9813\n",
      "18 0.9823\n",
      "19 0.9823\n",
      "20 0.983\n",
      "21 0.982\n",
      "22 0.9824\n",
      "23 0.9839\n",
      "24 0.9829\n",
      "25 0.9841\n",
      "26 0.9829\n",
      "27 0.9832\n",
      "28 0.9833\n",
      "29 0.9826\n",
      "30 0.9817\n",
      "31 0.9835\n",
      "32 0.9824\n",
      "33 0.9831\n",
      "34 0.9818\n",
      "35 0.9838\n",
      "36 0.9838\n",
      "37 0.9834\n",
      "38 0.9836\n",
      "39 0.983\n",
      "40 0.983\n",
      "41 0.984\n",
      "42 0.9835\n",
      "43 0.9831\n",
      "44 0.9835\n",
      "45 0.9832\n",
      "46 0.9832\n",
      "47 0.9834\n",
      "48 0.9852\n",
      "49 0.9844\n",
      "50 0.9839\n",
      "51 0.9831\n",
      "52 0.9852\n",
      "53 0.9852\n",
      "54 0.984\n",
      "55 0.9837\n",
      "56 0.9852\n",
      "57 0.9844\n",
      "58 0.9837\n",
      "59 0.9851\n",
      "60 0.9834\n",
      "61 0.985\n",
      "62 0.9853\n",
      "63 0.9839\n",
      "64 0.9846\n",
      "65 0.9849\n",
      "66 0.9847\n",
      "67 0.9858\n",
      "68 0.9844\n",
      "69 0.9843\n",
      "70 0.9842\n",
      "71 0.9848\n",
      "72 0.9852\n",
      "73 0.9836\n",
      "74 0.9841\n",
      "75 0.9841\n",
      "76 0.9827\n",
      "77 0.9851\n",
      "78 0.9846\n",
      "79 0.9839\n",
      "80 0.9845\n",
      "81 0.9841\n",
      "82 0.9839\n",
      "83 0.9841\n",
      "84 0.9849\n",
      "85 0.9855\n",
      "86 0.9854\n",
      "87 0.9858\n",
      "88 0.9851\n",
      "89 0.9854\n",
      "90 0.9858\n",
      "91 0.9838\n",
      "92 0.9856\n",
      "93 0.9832\n",
      "94 0.9837\n",
      "95 0.9849\n",
      "96 0.985\n",
      "97 0.9848\n",
      "98 0.9849\n",
      "99 0.9839\n"
     ]
    }
   ],
   "source": [
    "with tf.Session() as sess:\n",
    "    tf.global_variables_initializer().run()\n",
    "    \n",
    "    for i in range(100):\n",
    "        for start, end in zip(range(0, len(trX), 128), range(128, len(trX)+1, 128)):\n",
    "            sess.run(train_op, feed_dict = {X:trX[start:end], Y:trY[start:end], p_keep_input:0.8, p_keep_hidden:0.5})\n",
    "        print(i, np.mean(np.argmax(teY, axis=1)==sess.run(predict_op, feed_dict={X:teX, Y:teY, p_keep_input:1.0, p_keep_hidden:1.0})))"
   ]
  },
  {
   "cell_type": "code",
   "execution_count": null,
   "metadata": {},
   "outputs": [],
   "source": []
  }
 ],
 "metadata": {
  "kernelspec": {
   "display_name": "Python 3",
   "language": "python",
   "name": "python3"
  },
  "language_info": {
   "codemirror_mode": {
    "name": "ipython",
    "version": 3
   },
   "file_extension": ".py",
   "mimetype": "text/x-python",
   "name": "python",
   "nbconvert_exporter": "python",
   "pygments_lexer": "ipython3",
   "version": "3.6.5"
  }
 },
 "nbformat": 4,
 "nbformat_minor": 2
}
