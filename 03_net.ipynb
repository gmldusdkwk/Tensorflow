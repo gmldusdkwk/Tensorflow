{
 "cells": [
  {
   "cell_type": "code",
   "execution_count": 1,
   "metadata": {},
   "outputs": [
    {
     "name": "stderr",
     "output_type": "stream",
     "text": [
      "/anaconda3/lib/python3.6/importlib/_bootstrap.py:219: RuntimeWarning: numpy.dtype size changed, may indicate binary incompatibility. Expected 96, got 88\n",
      "  return f(*args, **kwds)\n",
      "/anaconda3/lib/python3.6/importlib/_bootstrap.py:219: RuntimeWarning: numpy.dtype size changed, may indicate binary incompatibility. Expected 96, got 88\n",
      "  return f(*args, **kwds)\n"
     ]
    }
   ],
   "source": [
    "import tensorflow as tf\n",
    "import numpy as np\n",
    "from tensorflow.examples.tutorials.mnist import input_data"
   ]
  },
  {
   "cell_type": "code",
   "execution_count": 2,
   "metadata": {},
   "outputs": [],
   "source": [
    "def init_weights(shape):\n",
    "    return tf.Variable(tf.random_normal(shape, stddev=0.01))"
   ]
  },
  {
   "cell_type": "code",
   "execution_count": 3,
   "metadata": {},
   "outputs": [
    {
     "name": "stdout",
     "output_type": "stream",
     "text": [
      "WARNING:tensorflow:From <ipython-input-3-e4a1dfc00353>:9: read_data_sets (from tensorflow.contrib.learn.python.learn.datasets.mnist) is deprecated and will be removed in a future version.\n",
      "Instructions for updating:\n",
      "Please use alternatives such as official/mnist/dataset.py from tensorflow/models.\n",
      "WARNING:tensorflow:From /anaconda3/lib/python3.6/site-packages/tensorflow/contrib/learn/python/learn/datasets/mnist.py:260: maybe_download (from tensorflow.contrib.learn.python.learn.datasets.base) is deprecated and will be removed in a future version.\n",
      "Instructions for updating:\n",
      "Please write your own downloading logic.\n",
      "WARNING:tensorflow:From /anaconda3/lib/python3.6/site-packages/tensorflow/contrib/learn/python/learn/datasets/mnist.py:262: extract_images (from tensorflow.contrib.learn.python.learn.datasets.mnist) is deprecated and will be removed in a future version.\n",
      "Instructions for updating:\n",
      "Please use tf.data to implement this functionality.\n",
      "Extracting MNIST_data/train-images-idx3-ubyte.gz\n",
      "WARNING:tensorflow:From /anaconda3/lib/python3.6/site-packages/tensorflow/contrib/learn/python/learn/datasets/mnist.py:267: extract_labels (from tensorflow.contrib.learn.python.learn.datasets.mnist) is deprecated and will be removed in a future version.\n",
      "Instructions for updating:\n",
      "Please use tf.data to implement this functionality.\n",
      "Extracting MNIST_data/train-labels-idx1-ubyte.gz\n",
      "WARNING:tensorflow:From /anaconda3/lib/python3.6/site-packages/tensorflow/contrib/learn/python/learn/datasets/mnist.py:110: dense_to_one_hot (from tensorflow.contrib.learn.python.learn.datasets.mnist) is deprecated and will be removed in a future version.\n",
      "Instructions for updating:\n",
      "Please use tf.one_hot on tensors.\n",
      "Extracting MNIST_data/t10k-images-idx3-ubyte.gz\n",
      "Extracting MNIST_data/t10k-labels-idx1-ubyte.gz\n",
      "WARNING:tensorflow:From /anaconda3/lib/python3.6/site-packages/tensorflow/contrib/learn/python/learn/datasets/mnist.py:290: DataSet.__init__ (from tensorflow.contrib.learn.python.learn.datasets.mnist) is deprecated and will be removed in a future version.\n",
      "Instructions for updating:\n",
      "Please use alternatives such as official/mnist/dataset.py from tensorflow/models.\n"
     ]
    }
   ],
   "source": [
    "def model(X, w_h, w_o):\n",
    "    h = tf.nn.sigmoid(tf.matmul(X, w_h))\n",
    "    # 이것이 일반적인 mlp(multilayer perceptron)\n",
    "    # 2 개의 layer를 통한 logistic regression\n",
    "    \n",
    "    return tf.matmul(h, w_o)\n",
    "    # 끝에는 sofmax이용하지 않는다.\n",
    "\n",
    "mnist = input_data.read_data_sets(\"MNIST_data/\", one_hot=True)\n",
    "trX, trY, teX, teY = mnist.train.images, mnist.train.labels, mnist.test.images, mnist.test.labels"
   ]
  },
  {
   "cell_type": "code",
   "execution_count": 4,
   "metadata": {},
   "outputs": [
    {
     "name": "stdout",
     "output_type": "stream",
     "text": [
      "WARNING:tensorflow:From <ipython-input-4-6d4471f9458e>:9: softmax_cross_entropy_with_logits (from tensorflow.python.ops.nn_ops) is deprecated and will be removed in a future version.\n",
      "Instructions for updating:\n",
      "\n",
      "Future major versions of TensorFlow will allow gradients to flow\n",
      "into the labels input on backprop by default.\n",
      "\n",
      "See @{tf.nn.softmax_cross_entropy_with_logits_v2}.\n",
      "\n"
     ]
    }
   ],
   "source": [
    "X = tf.placeholder(\"float\", [None, 784])\n",
    "Y = tf.placeholder(\"float\", [None, 10])\n",
    "\n",
    "w_h = init_weights([784, 625]) # hidden layer\n",
    "w_o = init_weights([625, 10]) # out layer\n",
    "\n",
    "py_x = model(X, w_h, w_o)\n",
    "\n",
    "cost = tf.reduce_mean(tf.nn.softmax_cross_entropy_with_logits(logits=py_x, labels=Y))"
   ]
  },
  {
   "cell_type": "code",
   "execution_count": 5,
   "metadata": {},
   "outputs": [],
   "source": [
    "train_op = tf.train.GradientDescentOptimizer(0.05).minimize(cost)\n",
    "predict_op = tf.argmax(py_x, 1)"
   ]
  },
  {
   "cell_type": "code",
   "execution_count": 7,
   "metadata": {},
   "outputs": [
    {
     "name": "stdout",
     "output_type": "stream",
     "text": [
      "0 0.6901\n",
      "1 0.823\n",
      "2 0.8618\n",
      "3 0.8806\n",
      "4 0.8888\n",
      "5 0.8932\n",
      "6 0.8981\n",
      "7 0.9007\n",
      "8 0.9039\n",
      "9 0.9053\n",
      "10 0.9082\n",
      "11 0.91\n",
      "12 0.9117\n",
      "13 0.913\n",
      "14 0.9139\n",
      "15 0.9148\n",
      "16 0.9154\n",
      "17 0.9167\n",
      "18 0.9177\n",
      "19 0.918\n",
      "20 0.9183\n",
      "21 0.919\n",
      "22 0.9195\n",
      "23 0.9201\n",
      "24 0.9202\n",
      "25 0.9206\n",
      "26 0.9214\n",
      "27 0.9219\n",
      "28 0.9225\n",
      "29 0.9228\n",
      "30 0.9232\n",
      "31 0.9236\n",
      "32 0.9242\n",
      "33 0.9248\n",
      "34 0.9251\n",
      "35 0.9258\n",
      "36 0.926\n",
      "37 0.9265\n",
      "38 0.9271\n",
      "39 0.9275\n",
      "40 0.928\n",
      "41 0.9285\n",
      "42 0.9289\n",
      "43 0.929\n",
      "44 0.9295\n",
      "45 0.9308\n",
      "46 0.9308\n",
      "47 0.9313\n",
      "48 0.9326\n",
      "49 0.9329\n",
      "50 0.9336\n",
      "51 0.9342\n",
      "52 0.9345\n",
      "53 0.9353\n",
      "54 0.9358\n",
      "55 0.9362\n",
      "56 0.9372\n",
      "57 0.9378\n",
      "58 0.9382\n",
      "59 0.9389\n",
      "60 0.9393\n",
      "61 0.9398\n",
      "62 0.9402\n",
      "63 0.9405\n",
      "64 0.9411\n",
      "65 0.9419\n",
      "66 0.9424\n",
      "67 0.9429\n",
      "68 0.943\n",
      "69 0.9436\n",
      "70 0.9438\n",
      "71 0.9441\n",
      "72 0.9444\n",
      "73 0.9447\n",
      "74 0.9455\n",
      "75 0.9459\n",
      "76 0.9465\n",
      "77 0.9468\n",
      "78 0.9475\n",
      "79 0.948\n",
      "80 0.9484\n",
      "81 0.9487\n",
      "82 0.9491\n",
      "83 0.9494\n",
      "84 0.95\n",
      "85 0.9503\n",
      "86 0.9505\n",
      "87 0.9507\n",
      "88 0.9512\n",
      "89 0.9514\n",
      "90 0.9515\n",
      "91 0.9518\n",
      "92 0.952\n",
      "93 0.9524\n",
      "94 0.9527\n",
      "95 0.9526\n",
      "96 0.953\n",
      "97 0.9532\n",
      "98 0.9537\n",
      "99 0.9539\n"
     ]
    }
   ],
   "source": [
    "with tf.Session() as sess:\n",
    "    tf.global_variables_initializer().run()\n",
    "    \n",
    "    for i in range(100):\n",
    "        for start, end in zip(range(0, len(trX), 128), range(128, len(trX)+1, 128)):\n",
    "            sess.run(train_op, feed_dict={X:trX[start:end], Y:trY[start:end]})\n",
    "        print(i, np.mean(np.argmax(teY, axis=1)==sess.run(predict_op, feed_dict={X:teX})))"
   ]
  },
  {
   "cell_type": "code",
   "execution_count": null,
   "metadata": {},
   "outputs": [],
   "source": []
  }
 ],
 "metadata": {
  "kernelspec": {
   "display_name": "Python 3",
   "language": "python",
   "name": "python3"
  },
  "language_info": {
   "codemirror_mode": {
    "name": "ipython",
    "version": 3
   },
   "file_extension": ".py",
   "mimetype": "text/x-python",
   "name": "python",
   "nbconvert_exporter": "python",
   "pygments_lexer": "ipython3",
   "version": "3.6.5"
  }
 },
 "nbformat": 4,
 "nbformat_minor": 2
}
